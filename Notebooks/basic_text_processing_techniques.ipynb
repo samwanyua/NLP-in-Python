{
 "cells": [
  {
   "cell_type": "markdown",
   "metadata": {},
   "source": [
    "### Basic Text Processing Techniques\n",
    "1. Tokenization \n",
    "- Involves splitting text into smaller units like words or sentences."
   ]
  },
  {
   "cell_type": "code",
   "execution_count": null,
   "metadata": {},
   "outputs": [],
   "source": [
    "from nltk.tokenize import word_tokenize\n",
    "import nltk\n",
    "nltk.data.path.append('/home/wanyua/nltk_data')\n",
    "nltk.download('punkt')\n",
    "\n",
    "# example text\n",
    "text = 'NLP is fun and useful!'\n",
    "\n",
    "# Tokenize the text\n",
    "tokens = word_tokenize(text)\n",
    "tokens"
   ]
  },
  {
   "cell_type": "markdown",
   "metadata": {},
   "source": [
    "2. Stopword Removal\n",
    "- Stopwords are common words like the 'I', 'and' that don't carry significant meaning. Removing them help focus on meaning words"
   ]
  },
  {
   "cell_type": "code",
   "execution_count": null,
   "metadata": {},
   "outputs": [],
   "source": [
    "from nltk.corpus import stopwords\n",
    "nltk.download('stopwords')\n",
    "\n",
    "# Define a set of stopwords\n",
    "stop_words = set(stopwords.words('english'))\n",
    "\n",
    "# filter our stopworkds from the tokenized text\n",
    "filtered_tokens = [word for  word in tokens if word.lower() not in stop_words]\n",
    "filtered_tokens"
   ]
  },
  {
   "cell_type": "markdown",
   "metadata": {},
   "source": [
    "3. Stemming\n",
    "- Stemming reduces words to their root form by chopping off suffixex. It helps in grouping words with the same meaning.\n",
    "\n",
    "Example: 'running' -> 'run'\n"
   ]
  },
  {
   "cell_type": "code",
   "execution_count": null,
   "metadata": {},
   "outputs": [],
   "source": [
    "from nltk.stem import PorterStemmer\n",
    "\n",
    "# initialize stemmmer\n",
    "stemmer = PorterStemmer()\n",
    "\n",
    "# Stem the filtered tokens\n",
    "stemmed_tokens = [stemmer.stem(token) for token in filtered_tokens]\n",
    "stemmed_tokens"
   ]
  },
  {
   "cell_type": "markdown",
   "metadata": {},
   "source": [
    "4. Lemmatization\n",
    "- It reduces words to their base or dictionary form(lemma) by considering the context and meaning.\n",
    "Example: 'better' -> 'good'\n"
   ]
  },
  {
   "cell_type": "code",
   "execution_count": null,
   "metadata": {},
   "outputs": [],
   "source": [
    "from nltk.stem import WordNetLemmatizer\n",
    "nltk.download('wordnet')\n",
    "\n",
    "# Initialize lemmatizer\n",
    "lemmatizer = WordNetLemmatizer()\n",
    "\n",
    "# Lemmatize the filtered tokens\n",
    "lemmatized_tokens = [lemmatizer.lemmatize(token) for token in filtered_tokens]\n",
    "print('Lemmatized tokens:', lemmatized_tokens)"
   ]
  },
  {
   "cell_type": "markdown",
   "metadata": {},
   "source": [
    "5. Case conversion\n",
    "- Converting text to lowercase to ensure consistency during processing. (eg. 'Cat' and 'cat' are treated the same)"
   ]
  },
  {
   "cell_type": "code",
   "execution_count": null,
   "metadata": {},
   "outputs": [],
   "source": [
    "# Converting text to lowercase\n",
    "lowercase_tokens = [token.lower() for token in lemmatized_tokens]\n",
    "print(f\"Lowercase tokens: {lowercase_tokens}\")"
   ]
  }
 ],
 "metadata": {
  "kernelspec": {
   "display_name": "env",
   "language": "python",
   "name": "python3"
  },
  "language_info": {
   "codemirror_mode": {
    "name": "ipython",
    "version": 3
   },
   "file_extension": ".py",
   "mimetype": "text/x-python",
   "name": "python",
   "nbconvert_exporter": "python",
   "pygments_lexer": "ipython3",
   "version": "3.8.10"
  }
 },
 "nbformat": 4,
 "nbformat_minor": 2
}
