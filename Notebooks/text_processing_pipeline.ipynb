{
 "cells": [
  {
   "cell_type": "markdown",
   "metadata": {},
   "source": [
    "### Text Preprocessing Pipleline\n",
    "**Objective**\n",
    "To develop a text preprocessing pipeline that :\n",
    "- Tokenize the input text\n",
    "- Remove stopwords\n",
    "- Converts text to lowercase\n",
    "- Applies either stemming or lemmatization\n",
    "- Returns the cleaned text ready for analysis\n"
   ]
  },
  {
   "cell_type": "code",
   "execution_count": null,
   "metadata": {},
   "outputs": [
    {
     "name": "stdout",
     "output_type": "stream",
     "text": [
      "With Lemmatization: ['quick', 'brown', 'fox', 'jumping', 'lazy', 'dog', '!']\n",
      "With Stemming: ['quick', 'brown', 'fox', 'jump', 'lazi', 'dog', '!']\n"
     ]
    },
    {
     "name": "stderr",
     "output_type": "stream",
     "text": [
      "[nltk_data] Downloading package punkt to /home/wanyua/nltk_data...\n",
      "[nltk_data]   Package punkt is already up-to-date!\n",
      "[nltk_data] Downloading package stopwords to /home/wanyua/nltk_data...\n",
      "[nltk_data]   Package stopwords is already up-to-date!\n",
      "[nltk_data] Downloading package wordnet to /home/wanyua/nltk_data...\n",
      "[nltk_data]   Package wordnet is already up-to-date!\n"
     ]
    }
   ],
   "source": [
    "import nltk\n",
    "\n",
    "from nltk.tokenize import TreebankWordTokenizer\n",
    "from nltk.corpus import stopwords\n",
    "from nltk.stem import PorterStemmer, WordNetLemmatizer\n",
    "\n",
    "# Download necessary resources\n",
    "nltk.download('punkt')\n",
    "nltk.download('stopwords')\n",
    "nltk.download('wordnet')\n",
    "\n",
    "# Define preprocessing pipeline\n",
    "def preprocess_text(text, use_lemmatization=True):\n",
    "    tokenizer = TreebankWordTokenizer()\n",
    "\n",
    "    # Tokenization\n",
    "    tokens = tokenizer.tokenize(text)\n",
    "\n",
    "    # Stopword removal\n",
    "    stop_words = set(stopwords.words('english'))\n",
    "    tokens = [word for word in tokens if word.lower() not in stop_words]\n",
    "\n",
    "    # Case conversion\n",
    "    tokens = [token.lower() for token in tokens]\n",
    "\n",
    "    # Stemming or Lemmatization\n",
    "    if use_lemmatization:\n",
    "        lemmatizer = WordNetLemmatizer()\n",
    "        tokens = [lemmatizer.lemmatize(token) for token in tokens]\n",
    "    else: \n",
    "        stemmer = PorterStemmer()\n",
    "        tokens = [stemmer.stem(token) for token in tokens]\n",
    "\n",
    "    return tokens\n",
    "\n",
    "# Test the pipeline\n",
    "text = \"The quick brown foxes are jumping over the lazy dogs!\"\n",
    "print(f\"With Lemmatization: {preprocess_text(text, use_lemmatization=True)}\")\n",
    "print(f\"With Stemming: {preprocess_text(text, use_lemmatization=False)}\")\n"
   ]
  },
  {
   "cell_type": "code",
   "execution_count": null,
   "metadata": {},
   "outputs": [],
   "source": []
  }
 ],
 "metadata": {
  "kernelspec": {
   "display_name": "env",
   "language": "python",
   "name": "python3"
  },
  "language_info": {
   "codemirror_mode": {
    "name": "ipython",
    "version": 3
   },
   "file_extension": ".py",
   "mimetype": "text/x-python",
   "name": "python",
   "nbconvert_exporter": "python",
   "pygments_lexer": "ipython3",
   "version": "3.8.10"
  }
 },
 "nbformat": 4,
 "nbformat_minor": 2
}
