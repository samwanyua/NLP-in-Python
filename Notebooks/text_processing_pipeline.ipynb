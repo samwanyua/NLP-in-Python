{
 "cells": [
  {
   "cell_type": "markdown",
   "metadata": {},
   "source": [
    "### Text Preprocessing Pipleline\n",
    "**Objective**\n",
    "To develop a text preprocessing pipeline that :\n",
    "- Tokenize the input text\n",
    "- Remove stopwords\n",
    "- Converts text to lowercase\n",
    "- Applies either stemming or lemmatization\n",
    "- Returns the cleaned text ready for analysis\n"
   ]
  },
  {
   "cell_type": "code",
   "execution_count": null,
   "metadata": {},
   "outputs": [],
   "source": []
  }
 ],
 "metadata": {
  "language_info": {
   "name": "python"
  }
 },
 "nbformat": 4,
 "nbformat_minor": 2
}
